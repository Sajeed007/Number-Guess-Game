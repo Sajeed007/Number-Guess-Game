{
 "cells": [
  {
   "cell_type": "code",
   "execution_count": 1,
   "id": "932624e1",
   "metadata": {},
   "outputs": [],
   "source": [
    "#if else and elif\n"
   ]
  },
  {
   "cell_type": "code",
   "execution_count": 20,
   "id": "25a6bb41",
   "metadata": {},
   "outputs": [
    {
     "name": "stdout",
     "output_type": "stream",
     "text": [
      "Fail!\n"
     ]
    }
   ],
   "source": [
    "from random import randint\n",
    "student_1 = randint(0,100)\n",
    "'''student_2 = randint(0,100)\n",
    "student_3 = randint(0,100)\n",
    "student_4 = randint(0,100)\n",
    "student_5 = randint(0,100)\n",
    "student_6 = randint(0,100)\n",
    "student_7 = randint(0,100)'''\n",
    "if student_1 >= 85:\n",
    "    print('First calass with distinction: {}'.format(student_1))\n",
    "elif student_1 >=60 and student_1 <=84:\n",
    "    print('First class: {}'.format(student_1))\n",
    "elif student_1 >=50 and student_1 <=59:   \n",
    "     print('Second class: {}'.format(student_1))\n",
    "elif student_1 >=35 and student_1 <=49:   \n",
    "     print('Third class: {}'.format(student_1))\n",
    "else:\n",
    "    print('Fail!')\n"
   ]
  },
  {
   "cell_type": "code",
   "execution_count": null,
   "id": "bed3882a",
   "metadata": {},
   "outputs": [],
   "source": [
    "#number guessing challenge\n",
    "\"\"\"\n",
    "-generate the no. from random no.\n",
    "-get user input\n",
    "-use if else show the output with diff in no.\n",
    "\n",
    "\"\"\""
   ]
  },
  {
   "cell_type": "code",
   "execution_count": 36,
   "id": "765b8b00",
   "metadata": {},
   "outputs": [
    {
     "name": "stdout",
     "output_type": "stream",
     "text": [
      "guess the number: 5\n",
      "Your guess is lower\n"
     ]
    }
   ],
   "source": [
    "import random as rd\n",
    "genrated_no = rd.randint(0,100)\n",
    "guess = int(input('guess the number: '))\n",
    "if genrated_no > guess:\n",
    "    print('Your guess is lower')\n",
    "elif genrated_no < guess:\n",
    "    print('your guess is higher')\n",
    "else:\n",
    "    print('Awsome you got me!')\n",
    "    \n",
    "    \n",
    "    \n",
    "    \n",
    "    \n",
    "    \n",
    "    "
   ]
  },
  {
   "cell_type": "code",
   "execution_count": null,
   "id": "c55ae564",
   "metadata": {},
   "outputs": [],
   "source": []
  }
 ],
 "metadata": {
  "kernelspec": {
   "display_name": "Python 3",
   "language": "python",
   "name": "python3"
  },
  "language_info": {
   "codemirror_mode": {
    "name": "ipython",
    "version": 3
   },
   "file_extension": ".py",
   "mimetype": "text/x-python",
   "name": "python",
   "nbconvert_exporter": "python",
   "pygments_lexer": "ipython3",
   "version": "3.8.8"
  }
 },
 "nbformat": 4,
 "nbformat_minor": 5
}
